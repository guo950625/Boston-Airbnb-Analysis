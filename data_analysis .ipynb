{
 "cells": [
  {
   "cell_type": "markdown",
   "metadata": {},
   "source": [
    "# Boston Airbnb Analysis"
   ]
  },
  {
   "cell_type": "code",
   "execution_count": 1,
   "metadata": {},
   "outputs": [],
   "source": [
    "import pandas as pd\n",
    "import numpy as np\n",
    "import seaborn as sns\n",
    "import matplotlib.pyplot as plt"
   ]
  },
  {
   "cell_type": "markdown",
   "metadata": {},
   "source": [
    "## Data input and cleaning"
   ]
  },
  {
   "cell_type": "markdown",
   "metadata": {},
   "source": [
    "### Dataset: Listing"
   ]
  },
  {
   "cell_type": "code",
   "execution_count": 3,
   "metadata": {
    "scrolled": true
   },
   "outputs": [
    {
     "data": {
      "text/html": [
       "<div>\n",
       "<style scoped>\n",
       "    .dataframe tbody tr th:only-of-type {\n",
       "        vertical-align: middle;\n",
       "    }\n",
       "\n",
       "    .dataframe tbody tr th {\n",
       "        vertical-align: top;\n",
       "    }\n",
       "\n",
       "    .dataframe thead th {\n",
       "        text-align: right;\n",
       "    }\n",
       "</style>\n",
       "<table border=\"1\" class=\"dataframe\">\n",
       "  <thead>\n",
       "    <tr style=\"text-align: right;\">\n",
       "      <th></th>\n",
       "      <th>id</th>\n",
       "      <th>listing_url</th>\n",
       "      <th>scrape_id</th>\n",
       "      <th>last_scraped</th>\n",
       "      <th>name</th>\n",
       "      <th>summary</th>\n",
       "      <th>space</th>\n",
       "      <th>description</th>\n",
       "      <th>experiences_offered</th>\n",
       "      <th>neighborhood_overview</th>\n",
       "      <th>...</th>\n",
       "      <th>review_scores_value</th>\n",
       "      <th>requires_license</th>\n",
       "      <th>license</th>\n",
       "      <th>jurisdiction_names</th>\n",
       "      <th>instant_bookable</th>\n",
       "      <th>cancellation_policy</th>\n",
       "      <th>require_guest_profile_picture</th>\n",
       "      <th>require_guest_phone_verification</th>\n",
       "      <th>calculated_host_listings_count</th>\n",
       "      <th>reviews_per_month</th>\n",
       "    </tr>\n",
       "  </thead>\n",
       "  <tbody>\n",
       "    <tr>\n",
       "      <th>0</th>\n",
       "      <td>12147973</td>\n",
       "      <td>https://www.airbnb.com/rooms/12147973</td>\n",
       "      <td>20160906204935</td>\n",
       "      <td>2016-09-07</td>\n",
       "      <td>Sunny Bungalow in the City</td>\n",
       "      <td>Cozy, sunny, family home.  Master bedroom high...</td>\n",
       "      <td>The house has an open and cozy feel at the sam...</td>\n",
       "      <td>Cozy, sunny, family home.  Master bedroom high...</td>\n",
       "      <td>none</td>\n",
       "      <td>Roslindale is quiet, convenient and friendly. ...</td>\n",
       "      <td>...</td>\n",
       "      <td>NaN</td>\n",
       "      <td>f</td>\n",
       "      <td>NaN</td>\n",
       "      <td>NaN</td>\n",
       "      <td>f</td>\n",
       "      <td>moderate</td>\n",
       "      <td>f</td>\n",
       "      <td>f</td>\n",
       "      <td>1</td>\n",
       "      <td>NaN</td>\n",
       "    </tr>\n",
       "    <tr>\n",
       "      <th>1</th>\n",
       "      <td>3075044</td>\n",
       "      <td>https://www.airbnb.com/rooms/3075044</td>\n",
       "      <td>20160906204935</td>\n",
       "      <td>2016-09-07</td>\n",
       "      <td>Charming room in pet friendly apt</td>\n",
       "      <td>Charming and quiet room in a second floor 1910...</td>\n",
       "      <td>Small but cozy and quite room with a full size...</td>\n",
       "      <td>Charming and quiet room in a second floor 1910...</td>\n",
       "      <td>none</td>\n",
       "      <td>The room is in Roslindale, a diverse and prima...</td>\n",
       "      <td>...</td>\n",
       "      <td>9.0</td>\n",
       "      <td>f</td>\n",
       "      <td>NaN</td>\n",
       "      <td>NaN</td>\n",
       "      <td>t</td>\n",
       "      <td>moderate</td>\n",
       "      <td>f</td>\n",
       "      <td>f</td>\n",
       "      <td>1</td>\n",
       "      <td>1.30</td>\n",
       "    </tr>\n",
       "    <tr>\n",
       "      <th>2</th>\n",
       "      <td>6976</td>\n",
       "      <td>https://www.airbnb.com/rooms/6976</td>\n",
       "      <td>20160906204935</td>\n",
       "      <td>2016-09-07</td>\n",
       "      <td>Mexican Folk Art Haven in Boston</td>\n",
       "      <td>Come stay with a friendly, middle-aged guy in ...</td>\n",
       "      <td>Come stay with a friendly, middle-aged guy in ...</td>\n",
       "      <td>Come stay with a friendly, middle-aged guy in ...</td>\n",
       "      <td>none</td>\n",
       "      <td>The LOCATION: Roslindale is a safe and diverse...</td>\n",
       "      <td>...</td>\n",
       "      <td>10.0</td>\n",
       "      <td>f</td>\n",
       "      <td>NaN</td>\n",
       "      <td>NaN</td>\n",
       "      <td>f</td>\n",
       "      <td>moderate</td>\n",
       "      <td>t</td>\n",
       "      <td>f</td>\n",
       "      <td>1</td>\n",
       "      <td>0.47</td>\n",
       "    </tr>\n",
       "    <tr>\n",
       "      <th>3</th>\n",
       "      <td>1436513</td>\n",
       "      <td>https://www.airbnb.com/rooms/1436513</td>\n",
       "      <td>20160906204935</td>\n",
       "      <td>2016-09-07</td>\n",
       "      <td>Spacious Sunny Bedroom Suite in Historic Home</td>\n",
       "      <td>Come experience the comforts of home away from...</td>\n",
       "      <td>Most places you find in Boston are small howev...</td>\n",
       "      <td>Come experience the comforts of home away from...</td>\n",
       "      <td>none</td>\n",
       "      <td>Roslindale is a lovely little neighborhood loc...</td>\n",
       "      <td>...</td>\n",
       "      <td>10.0</td>\n",
       "      <td>f</td>\n",
       "      <td>NaN</td>\n",
       "      <td>NaN</td>\n",
       "      <td>f</td>\n",
       "      <td>moderate</td>\n",
       "      <td>f</td>\n",
       "      <td>f</td>\n",
       "      <td>1</td>\n",
       "      <td>1.00</td>\n",
       "    </tr>\n",
       "    <tr>\n",
       "      <th>4</th>\n",
       "      <td>7651065</td>\n",
       "      <td>https://www.airbnb.com/rooms/7651065</td>\n",
       "      <td>20160906204935</td>\n",
       "      <td>2016-09-07</td>\n",
       "      <td>Come Home to Boston</td>\n",
       "      <td>My comfy, clean and relaxing home is one block...</td>\n",
       "      <td>Clean, attractive, private room, one block fro...</td>\n",
       "      <td>My comfy, clean and relaxing home is one block...</td>\n",
       "      <td>none</td>\n",
       "      <td>I love the proximity to downtown, the neighbor...</td>\n",
       "      <td>...</td>\n",
       "      <td>10.0</td>\n",
       "      <td>f</td>\n",
       "      <td>NaN</td>\n",
       "      <td>NaN</td>\n",
       "      <td>f</td>\n",
       "      <td>flexible</td>\n",
       "      <td>f</td>\n",
       "      <td>f</td>\n",
       "      <td>1</td>\n",
       "      <td>2.25</td>\n",
       "    </tr>\n",
       "  </tbody>\n",
       "</table>\n",
       "<p>5 rows × 95 columns</p>\n",
       "</div>"
      ],
      "text/plain": [
       "         id                            listing_url       scrape_id  \\\n",
       "0  12147973  https://www.airbnb.com/rooms/12147973  20160906204935   \n",
       "1   3075044   https://www.airbnb.com/rooms/3075044  20160906204935   \n",
       "2      6976      https://www.airbnb.com/rooms/6976  20160906204935   \n",
       "3   1436513   https://www.airbnb.com/rooms/1436513  20160906204935   \n",
       "4   7651065   https://www.airbnb.com/rooms/7651065  20160906204935   \n",
       "\n",
       "  last_scraped                                           name  \\\n",
       "0   2016-09-07                     Sunny Bungalow in the City   \n",
       "1   2016-09-07              Charming room in pet friendly apt   \n",
       "2   2016-09-07               Mexican Folk Art Haven in Boston   \n",
       "3   2016-09-07  Spacious Sunny Bedroom Suite in Historic Home   \n",
       "4   2016-09-07                            Come Home to Boston   \n",
       "\n",
       "                                             summary  \\\n",
       "0  Cozy, sunny, family home.  Master bedroom high...   \n",
       "1  Charming and quiet room in a second floor 1910...   \n",
       "2  Come stay with a friendly, middle-aged guy in ...   \n",
       "3  Come experience the comforts of home away from...   \n",
       "4  My comfy, clean and relaxing home is one block...   \n",
       "\n",
       "                                               space  \\\n",
       "0  The house has an open and cozy feel at the sam...   \n",
       "1  Small but cozy and quite room with a full size...   \n",
       "2  Come stay with a friendly, middle-aged guy in ...   \n",
       "3  Most places you find in Boston are small howev...   \n",
       "4  Clean, attractive, private room, one block fro...   \n",
       "\n",
       "                                         description experiences_offered  \\\n",
       "0  Cozy, sunny, family home.  Master bedroom high...                none   \n",
       "1  Charming and quiet room in a second floor 1910...                none   \n",
       "2  Come stay with a friendly, middle-aged guy in ...                none   \n",
       "3  Come experience the comforts of home away from...                none   \n",
       "4  My comfy, clean and relaxing home is one block...                none   \n",
       "\n",
       "                               neighborhood_overview  ... review_scores_value  \\\n",
       "0  Roslindale is quiet, convenient and friendly. ...  ...                 NaN   \n",
       "1  The room is in Roslindale, a diverse and prima...  ...                 9.0   \n",
       "2  The LOCATION: Roslindale is a safe and diverse...  ...                10.0   \n",
       "3  Roslindale is a lovely little neighborhood loc...  ...                10.0   \n",
       "4  I love the proximity to downtown, the neighbor...  ...                10.0   \n",
       "\n",
       "  requires_license license jurisdiction_names instant_bookable  \\\n",
       "0                f     NaN                NaN                f   \n",
       "1                f     NaN                NaN                t   \n",
       "2                f     NaN                NaN                f   \n",
       "3                f     NaN                NaN                f   \n",
       "4                f     NaN                NaN                f   \n",
       "\n",
       "  cancellation_policy require_guest_profile_picture  \\\n",
       "0            moderate                             f   \n",
       "1            moderate                             f   \n",
       "2            moderate                             t   \n",
       "3            moderate                             f   \n",
       "4            flexible                             f   \n",
       "\n",
       "  require_guest_phone_verification calculated_host_listings_count  \\\n",
       "0                                f                              1   \n",
       "1                                f                              1   \n",
       "2                                f                              1   \n",
       "3                                f                              1   \n",
       "4                                f                              1   \n",
       "\n",
       "   reviews_per_month  \n",
       "0                NaN  \n",
       "1               1.30  \n",
       "2               0.47  \n",
       "3               1.00  \n",
       "4               2.25  \n",
       "\n",
       "[5 rows x 95 columns]"
      ]
     },
     "execution_count": 3,
     "metadata": {},
     "output_type": "execute_result"
    }
   ],
   "source": [
    "listings = pd.read_csv(\"/Users/yumengxiao/Documents/7374/Boston-Airbnb-Analysis-master/boston/listings.csv\")\n",
    "listings.head()"
   ]
  },
  {
   "cell_type": "code",
   "execution_count": 4,
   "metadata": {},
   "outputs": [
    {
     "data": {
      "text/plain": [
       "(3585, 95)"
      ]
     },
     "execution_count": 4,
     "metadata": {},
     "output_type": "execute_result"
    }
   ],
   "source": [
    "listings.shape"
   ]
  },
  {
   "cell_type": "code",
   "execution_count": 5,
   "metadata": {},
   "outputs": [
    {
     "data": {
      "text/plain": [
       "Index(['id', 'listing_url', 'scrape_id', 'last_scraped', 'name', 'summary',\n",
       "       'space', 'description', 'experiences_offered', 'neighborhood_overview',\n",
       "       'notes', 'transit', 'access', 'interaction', 'house_rules',\n",
       "       'thumbnail_url', 'medium_url', 'picture_url', 'xl_picture_url',\n",
       "       'host_id', 'host_url', 'host_name', 'host_since', 'host_location',\n",
       "       'host_about', 'host_response_time', 'host_response_rate',\n",
       "       'host_acceptance_rate', 'host_is_superhost', 'host_thumbnail_url',\n",
       "       'host_picture_url', 'host_neighbourhood', 'host_listings_count',\n",
       "       'host_total_listings_count', 'host_verifications',\n",
       "       'host_has_profile_pic', 'host_identity_verified', 'street',\n",
       "       'neighbourhood', 'neighbourhood_cleansed',\n",
       "       'neighbourhood_group_cleansed', 'city', 'state', 'zipcode', 'market',\n",
       "       'smart_location', 'country_code', 'country', 'latitude', 'longitude',\n",
       "       'is_location_exact', 'property_type', 'room_type', 'accommodates',\n",
       "       'bathrooms', 'bedrooms', 'beds', 'bed_type', 'amenities', 'square_feet',\n",
       "       'price', 'weekly_price', 'monthly_price', 'security_deposit',\n",
       "       'cleaning_fee', 'guests_included', 'extra_people', 'minimum_nights',\n",
       "       'maximum_nights', 'calendar_updated', 'has_availability',\n",
       "       'availability_30', 'availability_60', 'availability_90',\n",
       "       'availability_365', 'calendar_last_scraped', 'number_of_reviews',\n",
       "       'first_review', 'last_review', 'review_scores_rating',\n",
       "       'review_scores_accuracy', 'review_scores_cleanliness',\n",
       "       'review_scores_checkin', 'review_scores_communication',\n",
       "       'review_scores_location', 'review_scores_value', 'requires_license',\n",
       "       'license', 'jurisdiction_names', 'instant_bookable',\n",
       "       'cancellation_policy', 'require_guest_profile_picture',\n",
       "       'require_guest_phone_verification', 'calculated_host_listings_count',\n",
       "       'reviews_per_month'],\n",
       "      dtype='object')"
      ]
     },
     "execution_count": 5,
     "metadata": {},
     "output_type": "execute_result"
    }
   ],
   "source": [
    "listings.columns"
   ]
  },
  {
   "cell_type": "code",
   "execution_count": null,
   "metadata": {},
   "outputs": [],
   "source": [
    "#我不知道你要用哪列做wordcloud,所以没有取，你单独取出来应该可以用吧，不然后边还要重新调代码\n",
    "name\n",
    "summary\n",
    "description"
   ]
  },
  {
   "cell_type": "code",
   "execution_count": 6,
   "metadata": {},
   "outputs": [],
   "source": [
    "# choose meaningful columns \n",
    "listings = listings[['id','host_response_time', 'host_response_rate','host_is_superhost','host_neighbourhood','property_type', 'room_type', 'accommodates','price', 'security_deposit',\n",
    "       'cleaning_fee','minimum_nights','review_scores_rating','cancellation_policy']]"
   ]
  },
  {
   "cell_type": "code",
   "execution_count": 7,
   "metadata": {},
   "outputs": [
    {
     "data": {
      "text/plain": [
       "0    NaN\n",
       "1    1.0\n",
       "2    1.0\n",
       "3    1.0\n",
       "4    1.0\n",
       "Name: host_response_rate, dtype: float64"
      ]
     },
     "execution_count": 7,
     "metadata": {},
     "output_type": "execute_result"
    }
   ],
   "source": [
    "# Convert string of pecentages to floats\n",
    "listings.host_response_rate = listings.host_response_rate.str.replace('%','')\n",
    "listings.host_response_rate = listings.host_response_rate.astype(float)/100\n",
    "listings.host_response_rate.head()"
   ]
  },
  {
   "cell_type": "code",
   "execution_count": 8,
   "metadata": {},
   "outputs": [
    {
     "data": {
      "text/plain": [
       "0    250.0\n",
       "1     65.0\n",
       "2     65.0\n",
       "3     75.0\n",
       "4     79.0\n",
       "Name: price, dtype: float64"
      ]
     },
     "execution_count": 8,
     "metadata": {},
     "output_type": "execute_result"
    }
   ],
   "source": [
    "# Convert string of prices to floats\n",
    "listings.price=listings.price.str.replace('$','')\n",
    "listings.price=listings.price.str.replace(',','').astype(float)\n",
    "\n",
    "listings.security_deposit=listings.security_deposit.str.replace('$','')\n",
    "listings.security_deposit=listings.security_deposit.str.replace(',','').astype(float)\n",
    "\n",
    "listings.cleaning_fee=listings.cleaning_fee.str.replace('$','')\n",
    "listings.cleaning_fee=listings.cleaning_fee.str.replace(',','').astype(float)\n",
    "\n",
    "listings.price.head()"
   ]
  },
  {
   "cell_type": "code",
   "execution_count": 9,
   "metadata": {},
   "outputs": [
    {
     "data": {
      "text/plain": [
       "id                      False\n",
       "host_response_time       True\n",
       "host_response_rate       True\n",
       "host_is_superhost       False\n",
       "host_neighbourhood       True\n",
       "property_type            True\n",
       "room_type               False\n",
       "accommodates            False\n",
       "price                   False\n",
       "security_deposit         True\n",
       "cleaning_fee             True\n",
       "minimum_nights          False\n",
       "review_scores_rating     True\n",
       "cancellation_policy     False\n",
       "dtype: bool"
      ]
     },
     "execution_count": 9,
     "metadata": {},
     "output_type": "execute_result"
    }
   ],
   "source": [
    "listings.isnull().any() "
   ]
  },
  {
   "cell_type": "code",
   "execution_count": 10,
   "metadata": {},
   "outputs": [],
   "source": [
    "# fill the null numerical data with mean\n",
    "listings['host_response_rate'] = listings['host_response_rate'].fillna(listings['host_response_rate'].mean())\n",
    "listings['security_deposit'] = listings['security_deposit'].fillna(listings['security_deposit'].mean())\n",
    "listings['cleaning_fee'] = listings['cleaning_fee'].fillna(listings['cleaning_fee'].mean())\n",
    "listings['review_scores_rating'] = listings['review_scores_rating'].fillna(listings['review_scores_rating'].mean())"
   ]
  },
  {
   "cell_type": "code",
   "execution_count": 11,
   "metadata": {},
   "outputs": [],
   "source": [
    "# fill null categorical data with mode\n",
    "listings['host_response_time'] = listings['host_response_time'].fillna(listings['host_response_time'][listings['host_response_time'].notnull()].mode()[0])\n",
    "listings['host_neighbourhood'] = listings['host_neighbourhood'].fillna(listings['host_neighbourhood'][listings['host_neighbourhood'].notnull()].mode()[0])\n",
    "listings['property_type'] = listings['property_type'].fillna(listings['property_type'][listings['property_type'].notnull()].mode()[0])"
   ]
  },
  {
   "cell_type": "code",
   "execution_count": 12,
   "metadata": {},
   "outputs": [],
   "source": [
    "# type(listings['host_since'][0])"
   ]
  },
  {
   "cell_type": "code",
   "execution_count": 13,
   "metadata": {},
   "outputs": [],
   "source": [
    "# listings['host_since'] = pd.to_datetime(listings['host_since'], format='%Y-%m-%d')"
   ]
  },
  {
   "cell_type": "code",
   "execution_count": 14,
   "metadata": {},
   "outputs": [
    {
     "data": {
      "text/plain": [
       "id                      False\n",
       "host_response_time      False\n",
       "host_response_rate      False\n",
       "host_is_superhost       False\n",
       "host_neighbourhood      False\n",
       "property_type           False\n",
       "room_type               False\n",
       "accommodates            False\n",
       "price                   False\n",
       "security_deposit        False\n",
       "cleaning_fee            False\n",
       "minimum_nights          False\n",
       "review_scores_rating    False\n",
       "cancellation_policy     False\n",
       "dtype: bool"
      ]
     },
     "execution_count": 14,
     "metadata": {},
     "output_type": "execute_result"
    }
   ],
   "source": [
    "listings.isnull().any() "
   ]
  },
  {
   "cell_type": "code",
   "execution_count": 15,
   "metadata": {},
   "outputs": [
    {
     "data": {
      "text/html": [
       "<div>\n",
       "<style scoped>\n",
       "    .dataframe tbody tr th:only-of-type {\n",
       "        vertical-align: middle;\n",
       "    }\n",
       "\n",
       "    .dataframe tbody tr th {\n",
       "        vertical-align: top;\n",
       "    }\n",
       "\n",
       "    .dataframe thead th {\n",
       "        text-align: right;\n",
       "    }\n",
       "</style>\n",
       "<table border=\"1\" class=\"dataframe\">\n",
       "  <thead>\n",
       "    <tr style=\"text-align: right;\">\n",
       "      <th></th>\n",
       "      <th>id</th>\n",
       "      <th>host_response_time</th>\n",
       "      <th>host_response_rate</th>\n",
       "      <th>host_is_superhost</th>\n",
       "      <th>host_neighbourhood</th>\n",
       "      <th>property_type</th>\n",
       "      <th>room_type</th>\n",
       "      <th>accommodates</th>\n",
       "      <th>price</th>\n",
       "      <th>security_deposit</th>\n",
       "      <th>cleaning_fee</th>\n",
       "      <th>minimum_nights</th>\n",
       "      <th>review_scores_rating</th>\n",
       "      <th>cancellation_policy</th>\n",
       "    </tr>\n",
       "  </thead>\n",
       "  <tbody>\n",
       "    <tr>\n",
       "      <th>0</th>\n",
       "      <td>12147973</td>\n",
       "      <td>within an hour</td>\n",
       "      <td>0.949891</td>\n",
       "      <td>f</td>\n",
       "      <td>Roslindale</td>\n",
       "      <td>House</td>\n",
       "      <td>Entire home/apt</td>\n",
       "      <td>4</td>\n",
       "      <td>250.0</td>\n",
       "      <td>324.698212</td>\n",
       "      <td>35.000000</td>\n",
       "      <td>2</td>\n",
       "      <td>91.916667</td>\n",
       "      <td>moderate</td>\n",
       "    </tr>\n",
       "    <tr>\n",
       "      <th>1</th>\n",
       "      <td>3075044</td>\n",
       "      <td>within an hour</td>\n",
       "      <td>1.000000</td>\n",
       "      <td>f</td>\n",
       "      <td>Roslindale</td>\n",
       "      <td>Apartment</td>\n",
       "      <td>Private room</td>\n",
       "      <td>2</td>\n",
       "      <td>65.0</td>\n",
       "      <td>95.000000</td>\n",
       "      <td>10.000000</td>\n",
       "      <td>2</td>\n",
       "      <td>94.000000</td>\n",
       "      <td>moderate</td>\n",
       "    </tr>\n",
       "    <tr>\n",
       "      <th>2</th>\n",
       "      <td>6976</td>\n",
       "      <td>within a few hours</td>\n",
       "      <td>1.000000</td>\n",
       "      <td>t</td>\n",
       "      <td>Roslindale</td>\n",
       "      <td>Apartment</td>\n",
       "      <td>Private room</td>\n",
       "      <td>2</td>\n",
       "      <td>65.0</td>\n",
       "      <td>324.698212</td>\n",
       "      <td>68.380145</td>\n",
       "      <td>3</td>\n",
       "      <td>98.000000</td>\n",
       "      <td>moderate</td>\n",
       "    </tr>\n",
       "    <tr>\n",
       "      <th>3</th>\n",
       "      <td>1436513</td>\n",
       "      <td>within a few hours</td>\n",
       "      <td>1.000000</td>\n",
       "      <td>f</td>\n",
       "      <td>Allston-Brighton</td>\n",
       "      <td>House</td>\n",
       "      <td>Private room</td>\n",
       "      <td>4</td>\n",
       "      <td>75.0</td>\n",
       "      <td>100.000000</td>\n",
       "      <td>50.000000</td>\n",
       "      <td>1</td>\n",
       "      <td>100.000000</td>\n",
       "      <td>moderate</td>\n",
       "    </tr>\n",
       "    <tr>\n",
       "      <th>4</th>\n",
       "      <td>7651065</td>\n",
       "      <td>within an hour</td>\n",
       "      <td>1.000000</td>\n",
       "      <td>t</td>\n",
       "      <td>Roslindale</td>\n",
       "      <td>House</td>\n",
       "      <td>Private room</td>\n",
       "      <td>2</td>\n",
       "      <td>79.0</td>\n",
       "      <td>324.698212</td>\n",
       "      <td>15.000000</td>\n",
       "      <td>2</td>\n",
       "      <td>99.000000</td>\n",
       "      <td>flexible</td>\n",
       "    </tr>\n",
       "  </tbody>\n",
       "</table>\n",
       "</div>"
      ],
      "text/plain": [
       "         id  host_response_time  host_response_rate host_is_superhost  \\\n",
       "0  12147973      within an hour            0.949891                 f   \n",
       "1   3075044      within an hour            1.000000                 f   \n",
       "2      6976  within a few hours            1.000000                 t   \n",
       "3   1436513  within a few hours            1.000000                 f   \n",
       "4   7651065      within an hour            1.000000                 t   \n",
       "\n",
       "  host_neighbourhood property_type        room_type  accommodates  price  \\\n",
       "0         Roslindale         House  Entire home/apt             4  250.0   \n",
       "1         Roslindale     Apartment     Private room             2   65.0   \n",
       "2         Roslindale     Apartment     Private room             2   65.0   \n",
       "3   Allston-Brighton         House     Private room             4   75.0   \n",
       "4         Roslindale         House     Private room             2   79.0   \n",
       "\n",
       "   security_deposit  cleaning_fee  minimum_nights  review_scores_rating  \\\n",
       "0        324.698212     35.000000               2             91.916667   \n",
       "1         95.000000     10.000000               2             94.000000   \n",
       "2        324.698212     68.380145               3             98.000000   \n",
       "3        100.000000     50.000000               1            100.000000   \n",
       "4        324.698212     15.000000               2             99.000000   \n",
       "\n",
       "  cancellation_policy  \n",
       "0            moderate  \n",
       "1            moderate  \n",
       "2            moderate  \n",
       "3            moderate  \n",
       "4            flexible  "
      ]
     },
     "execution_count": 15,
     "metadata": {},
     "output_type": "execute_result"
    }
   ],
   "source": [
    "listings.head()"
   ]
  },
  {
   "cell_type": "markdown",
   "metadata": {},
   "source": [
    "### Dataset: calendar"
   ]
  },
  {
   "cell_type": "code",
   "execution_count": 213,
   "metadata": {},
   "outputs": [
    {
     "data": {
      "text/html": [
       "<div>\n",
       "<style scoped>\n",
       "    .dataframe tbody tr th:only-of-type {\n",
       "        vertical-align: middle;\n",
       "    }\n",
       "\n",
       "    .dataframe tbody tr th {\n",
       "        vertical-align: top;\n",
       "    }\n",
       "\n",
       "    .dataframe thead th {\n",
       "        text-align: right;\n",
       "    }\n",
       "</style>\n",
       "<table border=\"1\" class=\"dataframe\">\n",
       "  <thead>\n",
       "    <tr style=\"text-align: right;\">\n",
       "      <th></th>\n",
       "      <th>listing_id</th>\n",
       "      <th>date</th>\n",
       "      <th>available</th>\n",
       "      <th>price</th>\n",
       "    </tr>\n",
       "  </thead>\n",
       "  <tbody>\n",
       "    <tr>\n",
       "      <th>0</th>\n",
       "      <td>12147973</td>\n",
       "      <td>2017-09-05</td>\n",
       "      <td>f</td>\n",
       "      <td>NaN</td>\n",
       "    </tr>\n",
       "    <tr>\n",
       "      <th>1</th>\n",
       "      <td>12147973</td>\n",
       "      <td>2017-09-04</td>\n",
       "      <td>f</td>\n",
       "      <td>NaN</td>\n",
       "    </tr>\n",
       "    <tr>\n",
       "      <th>2</th>\n",
       "      <td>12147973</td>\n",
       "      <td>2017-09-03</td>\n",
       "      <td>f</td>\n",
       "      <td>NaN</td>\n",
       "    </tr>\n",
       "    <tr>\n",
       "      <th>3</th>\n",
       "      <td>12147973</td>\n",
       "      <td>2017-09-02</td>\n",
       "      <td>f</td>\n",
       "      <td>NaN</td>\n",
       "    </tr>\n",
       "    <tr>\n",
       "      <th>4</th>\n",
       "      <td>12147973</td>\n",
       "      <td>2017-09-01</td>\n",
       "      <td>f</td>\n",
       "      <td>NaN</td>\n",
       "    </tr>\n",
       "  </tbody>\n",
       "</table>\n",
       "</div>"
      ],
      "text/plain": [
       "   listing_id        date available price\n",
       "0    12147973  2017-09-05         f   NaN\n",
       "1    12147973  2017-09-04         f   NaN\n",
       "2    12147973  2017-09-03         f   NaN\n",
       "3    12147973  2017-09-02         f   NaN\n",
       "4    12147973  2017-09-01         f   NaN"
      ]
     },
     "execution_count": 213,
     "metadata": {},
     "output_type": "execute_result"
    }
   ],
   "source": [
    "calendar = pd.read_csv(\"/Users/yumengxiao/Documents/7374/Boston-Airbnb-Analysis-master/boston/calendar.csv\")\n",
    "# calendar = calendar.dropna()\n",
    "calendar.head()"
   ]
  },
  {
   "cell_type": "code",
   "execution_count": 214,
   "metadata": {},
   "outputs": [
    {
     "data": {
      "text/plain": [
       "(1308890, 4)"
      ]
     },
     "execution_count": 214,
     "metadata": {},
     "output_type": "execute_result"
    }
   ],
   "source": [
    "calendar.shape"
   ]
  },
  {
   "cell_type": "code",
   "execution_count": 215,
   "metadata": {},
   "outputs": [
    {
     "data": {
      "text/plain": [
       "'2016-09-06'"
      ]
     },
     "execution_count": 215,
     "metadata": {},
     "output_type": "execute_result"
    }
   ],
   "source": [
    "calendar.date.min()"
   ]
  },
  {
   "cell_type": "code",
   "execution_count": 216,
   "metadata": {},
   "outputs": [
    {
     "data": {
      "text/plain": [
       "'2017-09-05'"
      ]
     },
     "execution_count": 216,
     "metadata": {},
     "output_type": "execute_result"
    }
   ],
   "source": [
    "calendar.date.max()"
   ]
  },
  {
   "cell_type": "code",
   "execution_count": 217,
   "metadata": {},
   "outputs": [
    {
     "data": {
      "text/plain": [
       "0   2017-09-05\n",
       "1   2017-09-04\n",
       "2   2017-09-03\n",
       "3   2017-09-02\n",
       "4   2017-09-01\n",
       "Name: date, dtype: datetime64[ns]"
      ]
     },
     "execution_count": 217,
     "metadata": {},
     "output_type": "execute_result"
    }
   ],
   "source": [
    "calendar.price = calendar.price.str.replace('$','')\n",
    "calendar.price = calendar.price.str.replace(',','').astype(float)\n",
    "\n",
    "calendar['date'] = pd.to_datetime(calendar['date'], format='%Y-%m-%d')\n",
    "calendar['date'].head()"
   ]
  },
  {
   "cell_type": "code",
   "execution_count": 291,
   "metadata": {},
   "outputs": [
    {
     "data": {
      "text/plain": [
       "listing_id    False\n",
       "date          False\n",
       "available     False\n",
       "price          True\n",
       "dtype: bool"
      ]
     },
     "execution_count": 291,
     "metadata": {},
     "output_type": "execute_result"
    }
   ],
   "source": [
    "calendar.isnull().any() "
   ]
  },
  {
   "cell_type": "code",
   "execution_count": 294,
   "metadata": {},
   "outputs": [],
   "source": [
    "# finding the matched price in table listing and fill the null value\n",
    "def fill_price(calendar,listings):\n",
    "    calendar['price'] = calendar['price'].fillna(0)\n",
    "    \n",
    "    price = calendar['price']\n",
    "    listing_id = calendar['listing_id']\n",
    "    num = len(price)\n",
    "    \n",
    "    for i in range(0,num):\n",
    "        if price[i] == 0:\n",
    "            list_id = listing_id[i]\n",
    "            list_price = listings[listings['id'] == list_id].price"
   ]
  },
  {
   "cell_type": "code",
   "execution_count": 224,
   "metadata": {},
   "outputs": [],
   "source": [
    "calendar = pd.read_csv(\"/Users/yumengxiao/Documents/7374/Boston-Airbnb-Analysis-master/calendar.csv\")"
   ]
  },
  {
   "cell_type": "code",
   "execution_count": 225,
   "metadata": {},
   "outputs": [
    {
     "data": {
      "text/plain": [
       "listing_id    False\n",
       "date          False\n",
       "available     False\n",
       "price         False\n",
       "dtype: bool"
      ]
     },
     "execution_count": 225,
     "metadata": {},
     "output_type": "execute_result"
    }
   ],
   "source": [
    "calendar.isnull().any() "
   ]
  },
  {
   "cell_type": "markdown",
   "metadata": {},
   "source": [
    "### Dataset: reviews"
   ]
  },
  {
   "cell_type": "code",
   "execution_count": 18,
   "metadata": {},
   "outputs": [
    {
     "data": {
      "text/html": [
       "<div>\n",
       "<style scoped>\n",
       "    .dataframe tbody tr th:only-of-type {\n",
       "        vertical-align: middle;\n",
       "    }\n",
       "\n",
       "    .dataframe tbody tr th {\n",
       "        vertical-align: top;\n",
       "    }\n",
       "\n",
       "    .dataframe thead th {\n",
       "        text-align: right;\n",
       "    }\n",
       "</style>\n",
       "<table border=\"1\" class=\"dataframe\">\n",
       "  <thead>\n",
       "    <tr style=\"text-align: right;\">\n",
       "      <th></th>\n",
       "      <th>listing_id</th>\n",
       "      <th>id</th>\n",
       "      <th>date</th>\n",
       "      <th>reviewer_id</th>\n",
       "      <th>reviewer_name</th>\n",
       "      <th>comments</th>\n",
       "    </tr>\n",
       "  </thead>\n",
       "  <tbody>\n",
       "    <tr>\n",
       "      <th>0</th>\n",
       "      <td>1178162</td>\n",
       "      <td>4724140</td>\n",
       "      <td>2013-05-21</td>\n",
       "      <td>4298113</td>\n",
       "      <td>Olivier</td>\n",
       "      <td>My stay at islam's place was really cool! Good...</td>\n",
       "    </tr>\n",
       "    <tr>\n",
       "      <th>1</th>\n",
       "      <td>1178162</td>\n",
       "      <td>4869189</td>\n",
       "      <td>2013-05-29</td>\n",
       "      <td>6452964</td>\n",
       "      <td>Charlotte</td>\n",
       "      <td>Great location for both airport and city - gre...</td>\n",
       "    </tr>\n",
       "    <tr>\n",
       "      <th>2</th>\n",
       "      <td>1178162</td>\n",
       "      <td>5003196</td>\n",
       "      <td>2013-06-06</td>\n",
       "      <td>6449554</td>\n",
       "      <td>Sebastian</td>\n",
       "      <td>We really enjoyed our stay at Islams house. Fr...</td>\n",
       "    </tr>\n",
       "    <tr>\n",
       "      <th>3</th>\n",
       "      <td>1178162</td>\n",
       "      <td>5150351</td>\n",
       "      <td>2013-06-15</td>\n",
       "      <td>2215611</td>\n",
       "      <td>Marine</td>\n",
       "      <td>The room was nice and clean and so were the co...</td>\n",
       "    </tr>\n",
       "    <tr>\n",
       "      <th>4</th>\n",
       "      <td>1178162</td>\n",
       "      <td>5171140</td>\n",
       "      <td>2013-06-16</td>\n",
       "      <td>6848427</td>\n",
       "      <td>Andrew</td>\n",
       "      <td>Great location. Just 5 mins walk from the Airp...</td>\n",
       "    </tr>\n",
       "  </tbody>\n",
       "</table>\n",
       "</div>"
      ],
      "text/plain": [
       "   listing_id       id        date  reviewer_id reviewer_name  \\\n",
       "0     1178162  4724140  2013-05-21      4298113       Olivier   \n",
       "1     1178162  4869189  2013-05-29      6452964     Charlotte   \n",
       "2     1178162  5003196  2013-06-06      6449554     Sebastian   \n",
       "3     1178162  5150351  2013-06-15      2215611        Marine   \n",
       "4     1178162  5171140  2013-06-16      6848427        Andrew   \n",
       "\n",
       "                                            comments  \n",
       "0  My stay at islam's place was really cool! Good...  \n",
       "1  Great location for both airport and city - gre...  \n",
       "2  We really enjoyed our stay at Islams house. Fr...  \n",
       "3  The room was nice and clean and so were the co...  \n",
       "4  Great location. Just 5 mins walk from the Airp...  "
      ]
     },
     "execution_count": 18,
     "metadata": {},
     "output_type": "execute_result"
    }
   ],
   "source": [
    "reviews = pd.read_csv(\"/Users/yumengxiao/Documents/7374/Boston-Airbnb-Analysis-master/boston/reviews.csv\")\n",
    "reviews.head()"
   ]
  },
  {
   "cell_type": "code",
   "execution_count": 19,
   "metadata": {},
   "outputs": [
    {
     "data": {
      "text/plain": [
       "(68275, 6)"
      ]
     },
     "execution_count": 19,
     "metadata": {},
     "output_type": "execute_result"
    }
   ],
   "source": [
    "reviews.shape"
   ]
  },
  {
   "cell_type": "code",
   "execution_count": 20,
   "metadata": {},
   "outputs": [
    {
     "data": {
      "text/plain": [
       "'2009-03-21'"
      ]
     },
     "execution_count": 20,
     "metadata": {},
     "output_type": "execute_result"
    }
   ],
   "source": [
    "reviews.date.min()"
   ]
  },
  {
   "cell_type": "code",
   "execution_count": 21,
   "metadata": {},
   "outputs": [
    {
     "data": {
      "text/plain": [
       "'2016-09-06'"
      ]
     },
     "execution_count": 21,
     "metadata": {},
     "output_type": "execute_result"
    }
   ],
   "source": [
    "reviews.date.max()"
   ]
  },
  {
   "cell_type": "code",
   "execution_count": 22,
   "metadata": {},
   "outputs": [],
   "source": [
    "reviews['date'] = pd.to_datetime(reviews['date'], format='%Y-%m-%d')"
   ]
  },
  {
   "cell_type": "code",
   "execution_count": 23,
   "metadata": {},
   "outputs": [
    {
     "data": {
      "text/plain": [
       "listing_id       False\n",
       "id               False\n",
       "date             False\n",
       "reviewer_id      False\n",
       "reviewer_name    False\n",
       "comments          True\n",
       "dtype: bool"
      ]
     },
     "execution_count": 23,
     "metadata": {},
     "output_type": "execute_result"
    }
   ],
   "source": [
    "reviews.isnull().any()"
   ]
  },
  {
   "cell_type": "markdown",
   "metadata": {},
   "source": [
    "## Price variation"
   ]
  },
  {
   "cell_type": "code",
   "execution_count": 226,
   "metadata": {},
   "outputs": [
    {
     "data": {
      "text/html": [
       "<div>\n",
       "<style scoped>\n",
       "    .dataframe tbody tr th:only-of-type {\n",
       "        vertical-align: middle;\n",
       "    }\n",
       "\n",
       "    .dataframe tbody tr th {\n",
       "        vertical-align: top;\n",
       "    }\n",
       "\n",
       "    .dataframe thead th {\n",
       "        text-align: right;\n",
       "    }\n",
       "</style>\n",
       "<table border=\"1\" class=\"dataframe\">\n",
       "  <thead>\n",
       "    <tr style=\"text-align: right;\">\n",
       "      <th></th>\n",
       "      <th>listing_id</th>\n",
       "      <th>date</th>\n",
       "      <th>available</th>\n",
       "      <th>price</th>\n",
       "    </tr>\n",
       "  </thead>\n",
       "  <tbody>\n",
       "    <tr>\n",
       "      <th>0</th>\n",
       "      <td>12147973</td>\n",
       "      <td>2017/9/5</td>\n",
       "      <td>f</td>\n",
       "      <td>250</td>\n",
       "    </tr>\n",
       "    <tr>\n",
       "      <th>1</th>\n",
       "      <td>12147973</td>\n",
       "      <td>2017/9/4</td>\n",
       "      <td>f</td>\n",
       "      <td>250</td>\n",
       "    </tr>\n",
       "    <tr>\n",
       "      <th>2</th>\n",
       "      <td>12147973</td>\n",
       "      <td>2017/9/3</td>\n",
       "      <td>f</td>\n",
       "      <td>250</td>\n",
       "    </tr>\n",
       "    <tr>\n",
       "      <th>3</th>\n",
       "      <td>12147973</td>\n",
       "      <td>2017/9/2</td>\n",
       "      <td>f</td>\n",
       "      <td>250</td>\n",
       "    </tr>\n",
       "    <tr>\n",
       "      <th>4</th>\n",
       "      <td>12147973</td>\n",
       "      <td>2017/9/1</td>\n",
       "      <td>f</td>\n",
       "      <td>250</td>\n",
       "    </tr>\n",
       "  </tbody>\n",
       "</table>\n",
       "</div>"
      ],
      "text/plain": [
       "   listing_id      date available  price\n",
       "0    12147973  2017/9/5         f    250\n",
       "1    12147973  2017/9/4         f    250\n",
       "2    12147973  2017/9/3         f    250\n",
       "3    12147973  2017/9/2         f    250\n",
       "4    12147973  2017/9/1         f    250"
      ]
     },
     "execution_count": 226,
     "metadata": {},
     "output_type": "execute_result"
    }
   ],
   "source": [
    "calendar.head()"
   ]
  },
  {
   "cell_type": "code",
   "execution_count": 227,
   "metadata": {},
   "outputs": [
    {
     "data": {
      "text/plain": [
       "0    2017-09\n",
       "1    2017-09\n",
       "2    2017-09\n",
       "3    2017-09\n",
       "4    2017-09\n",
       "Name: date, dtype: object"
      ]
     },
     "execution_count": 227,
     "metadata": {},
     "output_type": "execute_result"
    }
   ],
   "source": [
    "# transform date into only year with month\n",
    "calendar['date'] = pd.to_datetime(calendar['date'],format= \"%Y-%m-%d\")\n",
    "calendar['date'] = calendar['date'].apply(lambda x:x.strftime(\"%Y-%m\"))\n",
    "calendar['date'].head()"
   ]
  },
  {
   "cell_type": "code",
   "execution_count": 228,
   "metadata": {},
   "outputs": [
    {
     "data": {
      "text/html": [
       "<div>\n",
       "<style scoped>\n",
       "    .dataframe tbody tr th:only-of-type {\n",
       "        vertical-align: middle;\n",
       "    }\n",
       "\n",
       "    .dataframe tbody tr th {\n",
       "        vertical-align: top;\n",
       "    }\n",
       "\n",
       "    .dataframe thead th {\n",
       "        text-align: right;\n",
       "    }\n",
       "</style>\n",
       "<table border=\"1\" class=\"dataframe\">\n",
       "  <thead>\n",
       "    <tr style=\"text-align: right;\">\n",
       "      <th></th>\n",
       "      <th>date</th>\n",
       "      <th>average</th>\n",
       "    </tr>\n",
       "  </thead>\n",
       "  <tbody>\n",
       "    <tr>\n",
       "      <th>0</th>\n",
       "      <td>2016-09</td>\n",
       "      <td>194.945432</td>\n",
       "    </tr>\n",
       "    <tr>\n",
       "      <th>1</th>\n",
       "      <td>2016-10</td>\n",
       "      <td>200.697131</td>\n",
       "    </tr>\n",
       "    <tr>\n",
       "      <th>2</th>\n",
       "      <td>2016-11</td>\n",
       "      <td>192.132926</td>\n",
       "    </tr>\n",
       "    <tr>\n",
       "      <th>3</th>\n",
       "      <td>2016-12</td>\n",
       "      <td>185.543997</td>\n",
       "    </tr>\n",
       "    <tr>\n",
       "      <th>4</th>\n",
       "      <td>2017-01</td>\n",
       "      <td>181.617686</td>\n",
       "    </tr>\n",
       "    <tr>\n",
       "      <th>5</th>\n",
       "      <td>2017-02</td>\n",
       "      <td>181.841244</td>\n",
       "    </tr>\n",
       "    <tr>\n",
       "      <th>6</th>\n",
       "      <td>2017-03</td>\n",
       "      <td>183.227030</td>\n",
       "    </tr>\n",
       "    <tr>\n",
       "      <th>7</th>\n",
       "      <td>2017-04</td>\n",
       "      <td>191.203690</td>\n",
       "    </tr>\n",
       "    <tr>\n",
       "      <th>8</th>\n",
       "      <td>2017-05</td>\n",
       "      <td>189.997844</td>\n",
       "    </tr>\n",
       "    <tr>\n",
       "      <th>9</th>\n",
       "      <td>2017-06</td>\n",
       "      <td>191.222532</td>\n",
       "    </tr>\n",
       "    <tr>\n",
       "      <th>10</th>\n",
       "      <td>2017-07</td>\n",
       "      <td>194.192605</td>\n",
       "    </tr>\n",
       "    <tr>\n",
       "      <th>11</th>\n",
       "      <td>2017-08</td>\n",
       "      <td>194.787892</td>\n",
       "    </tr>\n",
       "    <tr>\n",
       "      <th>12</th>\n",
       "      <td>2017-09</td>\n",
       "      <td>191.513609</td>\n",
       "    </tr>\n",
       "  </tbody>\n",
       "</table>\n",
       "</div>"
      ],
      "text/plain": [
       "       date     average\n",
       "0   2016-09  194.945432\n",
       "1   2016-10  200.697131\n",
       "2   2016-11  192.132926\n",
       "3   2016-12  185.543997\n",
       "4   2017-01  181.617686\n",
       "5   2017-02  181.841244\n",
       "6   2017-03  183.227030\n",
       "7   2017-04  191.203690\n",
       "8   2017-05  189.997844\n",
       "9   2017-06  191.222532\n",
       "10  2017-07  194.192605\n",
       "11  2017-08  194.787892\n",
       "12  2017-09  191.513609"
      ]
     },
     "execution_count": 228,
     "metadata": {},
     "output_type": "execute_result"
    }
   ],
   "source": [
    "# calculate the average price for month\n",
    "calendar_month = calendar.groupby('date',as_index = False).agg({'listing_id': 'count', 'price': 'sum'})\n",
    "calendar_month.rename(columns={'listing_id': 'amount', 'price': 'sum_month_price'},inplace=True)\n",
    "calendar_month['average'] = calendar_month['sum_month_price']/calendar_month['amount']\n",
    "del calendar_month['amount']\n",
    "del calendar_month['sum_month_price']\n",
    "calendar_month"
   ]
  },
  {
   "cell_type": "code",
   "execution_count": 223,
   "metadata": {},
   "outputs": [
    {
     "data": {
      "text/plain": [
       "[<matplotlib.lines.Line2D at 0x1a727be668>]"
      ]
     },
     "execution_count": 223,
     "metadata": {},
     "output_type": "execute_result"
    },
    {
     "data": {
      "image/png": "[encoded data removed]",
      "text/plain": [
       "<Figure size 864x360 with 1 Axes>"
      ]
     },
     "metadata": {},
     "output_type": "display_data"
    }
   ],
   "source": [
    "x = calendar_month.date\n",
    "y = calendar_month.average\n",
    "fig = plt.figure(figsize=(12,5))\n",
    "plt.scatter(x,y, color = 'red')\n",
    "plt.plot(x,y)"
   ]
  },
  {
   "cell_type": "markdown",
   "metadata": {},
   "source": [
    "The price from October to January continuously decreased and reached the lowest postion. It started to increase significantly at March to April and reached the highest price at July and August. This trend is quite reasonable, because boston's weather starts to turn cold at October and be quite frozen around January. So few people will choose to come to boston in winter for a trip. But after March, the weather starts to turn warm and number of visitors may meet a peek at July and August because of summer vacation."
   ]
  },
  {
   "cell_type": "markdown",
   "metadata": {},
   "source": [
    "## Revenue"
   ]
  },
  {
   "cell_type": "markdown",
   "metadata": {},
   "source": [
    "### Revenue = review_num_2015 × listing_price × min_night"
   ]
  },
  {
   "cell_type": "code",
   "execution_count": 27,
   "metadata": {},
   "outputs": [
    {
     "data": {
      "text/html": [
       "<div>\n",
       "<style scoped>\n",
       "    .dataframe tbody tr th:only-of-type {\n",
       "        vertical-align: middle;\n",
       "    }\n",
       "\n",
       "    .dataframe tbody tr th {\n",
       "        vertical-align: top;\n",
       "    }\n",
       "\n",
       "    .dataframe thead th {\n",
       "        text-align: right;\n",
       "    }\n",
       "</style>\n",
       "<table border=\"1\" class=\"dataframe\">\n",
       "  <thead>\n",
       "    <tr style=\"text-align: right;\">\n",
       "      <th></th>\n",
       "      <th>listing_id</th>\n",
       "      <th>number_of_reviews_2015</th>\n",
       "    </tr>\n",
       "  </thead>\n",
       "  <tbody>\n",
       "    <tr>\n",
       "      <th>0</th>\n",
       "      <td>3353</td>\n",
       "      <td>8</td>\n",
       "    </tr>\n",
       "    <tr>\n",
       "      <th>1</th>\n",
       "      <td>5506</td>\n",
       "      <td>3</td>\n",
       "    </tr>\n",
       "    <tr>\n",
       "      <th>2</th>\n",
       "      <td>6695</td>\n",
       "      <td>2</td>\n",
       "    </tr>\n",
       "    <tr>\n",
       "      <th>3</th>\n",
       "      <td>6976</td>\n",
       "      <td>7</td>\n",
       "    </tr>\n",
       "    <tr>\n",
       "      <th>4</th>\n",
       "      <td>8792</td>\n",
       "      <td>7</td>\n",
       "    </tr>\n",
       "  </tbody>\n",
       "</table>\n",
       "</div>"
      ],
      "text/plain": [
       "   listing_id  number_of_reviews_2015\n",
       "0        3353                       8\n",
       "1        5506                       3\n",
       "2        6695                       2\n",
       "3        6976                       7\n",
       "4        8792                       7"
      ]
     },
     "execution_count": 27,
     "metadata": {},
     "output_type": "execute_result"
    }
   ],
   "source": [
    "reviews_2015 = reviews[(reviews.date >= '2015-01-01') & (reviews.date < '2016-01-01')]\n",
    "\n",
    "# calculate each property's review number in 2015\n",
    "reviews_2015_agg = reviews_2015.groupby(['listing_id'],as_index=False).agg({'id':'count'})\n",
    "reviews_2015_agg.rename(columns={\"id\": \"number_of_reviews_2015\"},inplace=True)\n",
    "reviews_2015_agg.head()"
   ]
  },
  {
   "cell_type": "code",
   "execution_count": 28,
   "metadata": {},
   "outputs": [
    {
     "data": {
      "text/html": [
       "<div>\n",
       "<style scoped>\n",
       "    .dataframe tbody tr th:only-of-type {\n",
       "        vertical-align: middle;\n",
       "    }\n",
       "\n",
       "    .dataframe tbody tr th {\n",
       "        vertical-align: top;\n",
       "    }\n",
       "\n",
       "    .dataframe thead th {\n",
       "        text-align: right;\n",
       "    }\n",
       "</style>\n",
       "<table border=\"1\" class=\"dataframe\">\n",
       "  <thead>\n",
       "    <tr style=\"text-align: right;\">\n",
       "      <th></th>\n",
       "      <th>id</th>\n",
       "      <th>host_response_time</th>\n",
       "      <th>host_response_rate</th>\n",
       "      <th>host_is_superhost</th>\n",
       "      <th>host_neighbourhood</th>\n",
       "      <th>property_type</th>\n",
       "      <th>room_type</th>\n",
       "      <th>accommodates</th>\n",
       "      <th>price</th>\n",
       "      <th>security_deposit</th>\n",
       "      <th>cleaning_fee</th>\n",
       "      <th>minimum_nights</th>\n",
       "      <th>review_scores_rating</th>\n",
       "      <th>cancellation_policy</th>\n",
       "      <th>number_of_reviews_2015</th>\n",
       "      <th>revenue</th>\n",
       "    </tr>\n",
       "  </thead>\n",
       "  <tbody>\n",
       "    <tr>\n",
       "      <th>0</th>\n",
       "      <td>3075044</td>\n",
       "      <td>within an hour</td>\n",
       "      <td>1.00</td>\n",
       "      <td>f</td>\n",
       "      <td>Roslindale</td>\n",
       "      <td>Apartment</td>\n",
       "      <td>Private room</td>\n",
       "      <td>2</td>\n",
       "      <td>65.0</td>\n",
       "      <td>95.000000</td>\n",
       "      <td>10.000000</td>\n",
       "      <td>2</td>\n",
       "      <td>94.0</td>\n",
       "      <td>moderate</td>\n",
       "      <td>17</td>\n",
       "      <td>2210.0</td>\n",
       "    </tr>\n",
       "    <tr>\n",
       "      <th>1</th>\n",
       "      <td>6976</td>\n",
       "      <td>within a few hours</td>\n",
       "      <td>1.00</td>\n",
       "      <td>t</td>\n",
       "      <td>Roslindale</td>\n",
       "      <td>Apartment</td>\n",
       "      <td>Private room</td>\n",
       "      <td>2</td>\n",
       "      <td>65.0</td>\n",
       "      <td>324.698212</td>\n",
       "      <td>68.380145</td>\n",
       "      <td>3</td>\n",
       "      <td>98.0</td>\n",
       "      <td>moderate</td>\n",
       "      <td>7</td>\n",
       "      <td>1365.0</td>\n",
       "    </tr>\n",
       "    <tr>\n",
       "      <th>2</th>\n",
       "      <td>7651065</td>\n",
       "      <td>within an hour</td>\n",
       "      <td>1.00</td>\n",
       "      <td>t</td>\n",
       "      <td>Roslindale</td>\n",
       "      <td>House</td>\n",
       "      <td>Private room</td>\n",
       "      <td>2</td>\n",
       "      <td>79.0</td>\n",
       "      <td>324.698212</td>\n",
       "      <td>15.000000</td>\n",
       "      <td>2</td>\n",
       "      <td>99.0</td>\n",
       "      <td>flexible</td>\n",
       "      <td>14</td>\n",
       "      <td>2212.0</td>\n",
       "    </tr>\n",
       "    <tr>\n",
       "      <th>3</th>\n",
       "      <td>5706985</td>\n",
       "      <td>within an hour</td>\n",
       "      <td>0.98</td>\n",
       "      <td>f</td>\n",
       "      <td>Roslindale</td>\n",
       "      <td>Apartment</td>\n",
       "      <td>Entire home/apt</td>\n",
       "      <td>3</td>\n",
       "      <td>100.0</td>\n",
       "      <td>324.698212</td>\n",
       "      <td>68.380145</td>\n",
       "      <td>1</td>\n",
       "      <td>90.0</td>\n",
       "      <td>strict</td>\n",
       "      <td>17</td>\n",
       "      <td>1700.0</td>\n",
       "    </tr>\n",
       "    <tr>\n",
       "      <th>4</th>\n",
       "      <td>2843445</td>\n",
       "      <td>within a few hours</td>\n",
       "      <td>1.00</td>\n",
       "      <td>t</td>\n",
       "      <td>Roslindale</td>\n",
       "      <td>House</td>\n",
       "      <td>Private room</td>\n",
       "      <td>2</td>\n",
       "      <td>75.0</td>\n",
       "      <td>324.698212</td>\n",
       "      <td>10.000000</td>\n",
       "      <td>1</td>\n",
       "      <td>96.0</td>\n",
       "      <td>moderate</td>\n",
       "      <td>41</td>\n",
       "      <td>3075.0</td>\n",
       "    </tr>\n",
       "  </tbody>\n",
       "</table>\n",
       "</div>"
      ],
      "text/plain": [
       "        id  host_response_time  host_response_rate host_is_superhost  \\\n",
       "0  3075044      within an hour                1.00                 f   \n",
       "1     6976  within a few hours                1.00                 t   \n",
       "2  7651065      within an hour                1.00                 t   \n",
       "3  5706985      within an hour                0.98                 f   \n",
       "4  2843445  within a few hours                1.00                 t   \n",
       "\n",
       "  host_neighbourhood property_type        room_type  accommodates  price  \\\n",
       "0         Roslindale     Apartment     Private room             2   65.0   \n",
       "1         Roslindale     Apartment     Private room             2   65.0   \n",
       "2         Roslindale         House     Private room             2   79.0   \n",
       "3         Roslindale     Apartment  Entire home/apt             3  100.0   \n",
       "4         Roslindale         House     Private room             2   75.0   \n",
       "\n",
       "   security_deposit  cleaning_fee  minimum_nights  review_scores_rating  \\\n",
       "0         95.000000     10.000000               2                  94.0   \n",
       "1        324.698212     68.380145               3                  98.0   \n",
       "2        324.698212     15.000000               2                  99.0   \n",
       "3        324.698212     68.380145               1                  90.0   \n",
       "4        324.698212     10.000000               1                  96.0   \n",
       "\n",
       "  cancellation_policy  number_of_reviews_2015  revenue  \n",
       "0            moderate                      17   2210.0  \n",
       "1            moderate                       7   1365.0  \n",
       "2            flexible                      14   2212.0  \n",
       "3              strict                      17   1700.0  \n",
       "4            moderate                      41   3075.0  "
      ]
     },
     "execution_count": 28,
     "metadata": {},
     "output_type": "execute_result"
    }
   ],
   "source": [
    "# merge the review number into datatset listing\n",
    "listing_agg = pd.merge(listings, reviews_2015_agg, how='inner', left_on='id',right_on='listing_id')\n",
    "del listing_agg['listing_id']\n",
    "\n",
    "# calculate revenue\n",
    "listing_agg['revenue'] = listing_agg['price']*listing_agg['minimum_nights']*listing_agg['number_of_reviews_2015']\n",
    "listing_agg.head()"
   ]
  },
  {
   "cell_type": "code",
   "execution_count": 35,
   "metadata": {},
   "outputs": [
    {
     "data": {
      "text/plain": [
       "<matplotlib.axes._subplots.AxesSubplot at 0x1a29459208>"
      ]
     },
     "execution_count": 35,
     "metadata": {},
     "output_type": "execute_result"
    },
    {
     "data": {
      "image/png": "[encoded data removed]",
      "text/plain": [
       "<Figure size 360x720 with 1 Axes>"
      ]
     },
     "metadata": {},
     "output_type": "display_data"
    }
   ],
   "source": [
    "fig = plt.figure(figsize=(5,10))\n",
    "listing_agg['revenue'][listing_agg['revenue']<100000].plot(kind = 'box')"
   ]
  },
  {
   "cell_type": "code",
   "execution_count": 36,
   "metadata": {},
   "outputs": [
    {
     "data": {
      "text/plain": [
       "count      1571.000000\n",
       "mean       5068.504774\n",
       "std       10430.361009\n",
       "min          32.000000\n",
       "25%         880.000000\n",
       "50%        2290.000000\n",
       "75%        5625.000000\n",
       "max      224224.000000\n",
       "Name: revenue, dtype: float64"
      ]
     },
     "execution_count": 36,
     "metadata": {},
     "output_type": "execute_result"
    }
   ],
   "source": [
    "listing_agg['revenue'].describe()"
   ]
  },
  {
   "cell_type": "markdown",
   "metadata": {},
   "source": [
    "In 2015, the average estimated revenue for a Boston Airbnb host was 5068 dollars, but revenue disparity was prevalent. 50% of the hosts gained less than 2290 dollars in revenues, while the top Airbnb host in Boston received over 224,000 dollars of revenue in 2015! In fact, 4 of the highest hosts received at least 100,000 dollars in revenue during that year."
   ]
  },
  {
   "cell_type": "code",
   "execution_count": 38,
   "metadata": {},
   "outputs": [
    {
     "data": {
      "text/html": [
       "<div>\n",
       "<style scoped>\n",
       "    .dataframe tbody tr th:only-of-type {\n",
       "        vertical-align: middle;\n",
       "    }\n",
       "\n",
       "    .dataframe tbody tr th {\n",
       "        vertical-align: top;\n",
       "    }\n",
       "\n",
       "    .dataframe thead th {\n",
       "        text-align: right;\n",
       "    }\n",
       "</style>\n",
       "<table border=\"1\" class=\"dataframe\">\n",
       "  <thead>\n",
       "    <tr style=\"text-align: right;\">\n",
       "      <th></th>\n",
       "      <th>id</th>\n",
       "      <th>host_response_time</th>\n",
       "      <th>host_response_rate</th>\n",
       "      <th>host_is_superhost</th>\n",
       "      <th>host_neighbourhood</th>\n",
       "      <th>property_type</th>\n",
       "      <th>room_type</th>\n",
       "      <th>accommodates</th>\n",
       "      <th>price</th>\n",
       "      <th>security_deposit</th>\n",
       "      <th>cleaning_fee</th>\n",
       "      <th>minimum_nights</th>\n",
       "      <th>review_scores_rating</th>\n",
       "      <th>cancellation_policy</th>\n",
       "      <th>number_of_reviews_2015</th>\n",
       "      <th>revenue</th>\n",
       "    </tr>\n",
       "  </thead>\n",
       "  <tbody>\n",
       "    <tr>\n",
       "      <th>151</th>\n",
       "      <td>3693850</td>\n",
       "      <td>within an hour</td>\n",
       "      <td>1.00</td>\n",
       "      <td>t</td>\n",
       "      <td>Jamaica Plain</td>\n",
       "      <td>Condominium</td>\n",
       "      <td>Private room</td>\n",
       "      <td>1</td>\n",
       "      <td>88.0</td>\n",
       "      <td>324.698212</td>\n",
       "      <td>68.380145</td>\n",
       "      <td>28</td>\n",
       "      <td>96.0</td>\n",
       "      <td>moderate</td>\n",
       "      <td>91</td>\n",
       "      <td>224224.0</td>\n",
       "    </tr>\n",
       "    <tr>\n",
       "      <th>207</th>\n",
       "      <td>5882411</td>\n",
       "      <td>within an hour</td>\n",
       "      <td>1.00</td>\n",
       "      <td>t</td>\n",
       "      <td>Jamaica Plain</td>\n",
       "      <td>Condominium</td>\n",
       "      <td>Private room</td>\n",
       "      <td>1</td>\n",
       "      <td>88.0</td>\n",
       "      <td>324.698212</td>\n",
       "      <td>68.380145</td>\n",
       "      <td>28</td>\n",
       "      <td>96.0</td>\n",
       "      <td>moderate</td>\n",
       "      <td>65</td>\n",
       "      <td>160160.0</td>\n",
       "    </tr>\n",
       "    <tr>\n",
       "      <th>877</th>\n",
       "      <td>6432655</td>\n",
       "      <td>within a day</td>\n",
       "      <td>0.60</td>\n",
       "      <td>f</td>\n",
       "      <td>Beacon Hill</td>\n",
       "      <td>Apartment</td>\n",
       "      <td>Entire home/apt</td>\n",
       "      <td>2</td>\n",
       "      <td>150.0</td>\n",
       "      <td>324.698212</td>\n",
       "      <td>70.000000</td>\n",
       "      <td>30</td>\n",
       "      <td>91.0</td>\n",
       "      <td>flexible</td>\n",
       "      <td>24</td>\n",
       "      <td>108000.0</td>\n",
       "    </tr>\n",
       "    <tr>\n",
       "      <th>643</th>\n",
       "      <td>2881388</td>\n",
       "      <td>within an hour</td>\n",
       "      <td>1.00</td>\n",
       "      <td>t</td>\n",
       "      <td>Back Bay</td>\n",
       "      <td>Apartment</td>\n",
       "      <td>Entire home/apt</td>\n",
       "      <td>7</td>\n",
       "      <td>695.0</td>\n",
       "      <td>600.000000</td>\n",
       "      <td>150.000000</td>\n",
       "      <td>3</td>\n",
       "      <td>96.0</td>\n",
       "      <td>strict</td>\n",
       "      <td>48</td>\n",
       "      <td>100080.0</td>\n",
       "    </tr>\n",
       "    <tr>\n",
       "      <th>1182</th>\n",
       "      <td>3412990</td>\n",
       "      <td>within a few hours</td>\n",
       "      <td>0.95</td>\n",
       "      <td>f</td>\n",
       "      <td>Allston-Brighton</td>\n",
       "      <td>House</td>\n",
       "      <td>Private room</td>\n",
       "      <td>2</td>\n",
       "      <td>60.0</td>\n",
       "      <td>324.698212</td>\n",
       "      <td>10.000000</td>\n",
       "      <td>30</td>\n",
       "      <td>90.0</td>\n",
       "      <td>strict</td>\n",
       "      <td>37</td>\n",
       "      <td>66600.0</td>\n",
       "    </tr>\n",
       "  </tbody>\n",
       "</table>\n",
       "</div>"
      ],
      "text/plain": [
       "           id  host_response_time  host_response_rate host_is_superhost  \\\n",
       "151   3693850      within an hour                1.00                 t   \n",
       "207   5882411      within an hour                1.00                 t   \n",
       "877   6432655        within a day                0.60                 f   \n",
       "643   2881388      within an hour                1.00                 t   \n",
       "1182  3412990  within a few hours                0.95                 f   \n",
       "\n",
       "     host_neighbourhood property_type        room_type  accommodates  price  \\\n",
       "151       Jamaica Plain   Condominium     Private room             1   88.0   \n",
       "207       Jamaica Plain   Condominium     Private room             1   88.0   \n",
       "877         Beacon Hill     Apartment  Entire home/apt             2  150.0   \n",
       "643            Back Bay     Apartment  Entire home/apt             7  695.0   \n",
       "1182   Allston-Brighton         House     Private room             2   60.0   \n",
       "\n",
       "      security_deposit  cleaning_fee  minimum_nights  review_scores_rating  \\\n",
       "151         324.698212     68.380145              28                  96.0   \n",
       "207         324.698212     68.380145              28                  96.0   \n",
       "877         324.698212     70.000000              30                  91.0   \n",
       "643         600.000000    150.000000               3                  96.0   \n",
       "1182        324.698212     10.000000              30                  90.0   \n",
       "\n",
       "     cancellation_policy  number_of_reviews_2015   revenue  \n",
       "151             moderate                      91  224224.0  \n",
       "207             moderate                      65  160160.0  \n",
       "877             flexible                      24  108000.0  \n",
       "643               strict                      48  100080.0  \n",
       "1182              strict                      37   66600.0  "
      ]
     },
     "execution_count": 38,
     "metadata": {},
     "output_type": "execute_result"
    }
   ],
   "source": [
    "listing_agg.sort_values(by = 'revenue', ascending = False).head()"
   ]
  },
  {
   "cell_type": "markdown",
   "metadata": {},
   "source": [
    "Through the table above, we can see that most of these top host of revenue has a high score rating, all of them are higher than 90. Also their minmum nights are very high, except the forth one. But the forth one has a really high price. So we might think the revenue is  quite relevant to the score rating, minmum night and price. For figure out which features are the most important for revenue, we build a regressor tree to get feature importance."
   ]
  },
  {
   "cell_type": "markdown",
   "metadata": {},
   "source": [
    "## Rgression"
   ]
  },
  {
   "cell_type": "markdown",
   "metadata": {},
   "source": [
    "### Data preprocessing"
   ]
  },
  {
   "cell_type": "code",
   "execution_count": 123,
   "metadata": {},
   "outputs": [
    {
     "data": {
      "text/html": [
       "<div>\n",
       "<style scoped>\n",
       "    .dataframe tbody tr th:only-of-type {\n",
       "        vertical-align: middle;\n",
       "    }\n",
       "\n",
       "    .dataframe tbody tr th {\n",
       "        vertical-align: top;\n",
       "    }\n",
       "\n",
       "    .dataframe thead th {\n",
       "        text-align: right;\n",
       "    }\n",
       "</style>\n",
       "<table border=\"1\" class=\"dataframe\">\n",
       "  <thead>\n",
       "    <tr style=\"text-align: right;\">\n",
       "      <th></th>\n",
       "      <th>id</th>\n",
       "      <th>host_response_time</th>\n",
       "      <th>host_response_rate</th>\n",
       "      <th>host_is_superhost</th>\n",
       "      <th>host_neighbourhood</th>\n",
       "      <th>property_type</th>\n",
       "      <th>room_type</th>\n",
       "      <th>accommodates</th>\n",
       "      <th>price</th>\n",
       "      <th>security_deposit</th>\n",
       "      <th>cleaning_fee</th>\n",
       "      <th>minimum_nights</th>\n",
       "      <th>review_scores_rating</th>\n",
       "      <th>cancellation_policy</th>\n",
       "      <th>number_of_reviews_2015</th>\n",
       "      <th>revenue</th>\n",
       "    </tr>\n",
       "  </thead>\n",
       "  <tbody>\n",
       "    <tr>\n",
       "      <th>0</th>\n",
       "      <td>3075044</td>\n",
       "      <td>within an hour</td>\n",
       "      <td>1.00</td>\n",
       "      <td>f</td>\n",
       "      <td>Roslindale</td>\n",
       "      <td>Apartment</td>\n",
       "      <td>Private room</td>\n",
       "      <td>2</td>\n",
       "      <td>65.0</td>\n",
       "      <td>95.000000</td>\n",
       "      <td>10.000000</td>\n",
       "      <td>2</td>\n",
       "      <td>94.0</td>\n",
       "      <td>moderate</td>\n",
       "      <td>17</td>\n",
       "      <td>2210.0</td>\n",
       "    </tr>\n",
       "    <tr>\n",
       "      <th>1</th>\n",
       "      <td>6976</td>\n",
       "      <td>within a few hours</td>\n",
       "      <td>1.00</td>\n",
       "      <td>t</td>\n",
       "      <td>Roslindale</td>\n",
       "      <td>Apartment</td>\n",
       "      <td>Private room</td>\n",
       "      <td>2</td>\n",
       "      <td>65.0</td>\n",
       "      <td>324.698212</td>\n",
       "      <td>68.380145</td>\n",
       "      <td>3</td>\n",
       "      <td>98.0</td>\n",
       "      <td>moderate</td>\n",
       "      <td>7</td>\n",
       "      <td>1365.0</td>\n",
       "    </tr>\n",
       "    <tr>\n",
       "      <th>2</th>\n",
       "      <td>7651065</td>\n",
       "      <td>within an hour</td>\n",
       "      <td>1.00</td>\n",
       "      <td>t</td>\n",
       "      <td>Roslindale</td>\n",
       "      <td>House</td>\n",
       "      <td>Private room</td>\n",
       "      <td>2</td>\n",
       "      <td>79.0</td>\n",
       "      <td>324.698212</td>\n",
       "      <td>15.000000</td>\n",
       "      <td>2</td>\n",
       "      <td>99.0</td>\n",
       "      <td>flexible</td>\n",
       "      <td>14</td>\n",
       "      <td>2212.0</td>\n",
       "    </tr>\n",
       "    <tr>\n",
       "      <th>3</th>\n",
       "      <td>5706985</td>\n",
       "      <td>within an hour</td>\n",
       "      <td>0.98</td>\n",
       "      <td>f</td>\n",
       "      <td>Roslindale</td>\n",
       "      <td>Apartment</td>\n",
       "      <td>Entire home/apt</td>\n",
       "      <td>3</td>\n",
       "      <td>100.0</td>\n",
       "      <td>324.698212</td>\n",
       "      <td>68.380145</td>\n",
       "      <td>1</td>\n",
       "      <td>90.0</td>\n",
       "      <td>strict</td>\n",
       "      <td>17</td>\n",
       "      <td>1700.0</td>\n",
       "    </tr>\n",
       "    <tr>\n",
       "      <th>4</th>\n",
       "      <td>2843445</td>\n",
       "      <td>within a few hours</td>\n",
       "      <td>1.00</td>\n",
       "      <td>t</td>\n",
       "      <td>Roslindale</td>\n",
       "      <td>House</td>\n",
       "      <td>Private room</td>\n",
       "      <td>2</td>\n",
       "      <td>75.0</td>\n",
       "      <td>324.698212</td>\n",
       "      <td>10.000000</td>\n",
       "      <td>1</td>\n",
       "      <td>96.0</td>\n",
       "      <td>moderate</td>\n",
       "      <td>41</td>\n",
       "      <td>3075.0</td>\n",
       "    </tr>\n",
       "  </tbody>\n",
       "</table>\n",
       "</div>"
      ],
      "text/plain": [
       "        id  host_response_time  host_response_rate host_is_superhost  \\\n",
       "0  3075044      within an hour                1.00                 f   \n",
       "1     6976  within a few hours                1.00                 t   \n",
       "2  7651065      within an hour                1.00                 t   \n",
       "3  5706985      within an hour                0.98                 f   \n",
       "4  2843445  within a few hours                1.00                 t   \n",
       "\n",
       "  host_neighbourhood property_type        room_type  accommodates  price  \\\n",
       "0         Roslindale     Apartment     Private room             2   65.0   \n",
       "1         Roslindale     Apartment     Private room             2   65.0   \n",
       "2         Roslindale         House     Private room             2   79.0   \n",
       "3         Roslindale     Apartment  Entire home/apt             3  100.0   \n",
       "4         Roslindale         House     Private room             2   75.0   \n",
       "\n",
       "   security_deposit  cleaning_fee  minimum_nights  review_scores_rating  \\\n",
       "0         95.000000     10.000000               2                  94.0   \n",
       "1        324.698212     68.380145               3                  98.0   \n",
       "2        324.698212     15.000000               2                  99.0   \n",
       "3        324.698212     68.380145               1                  90.0   \n",
       "4        324.698212     10.000000               1                  96.0   \n",
       "\n",
       "  cancellation_policy  number_of_reviews_2015  revenue  \n",
       "0            moderate                      17   2210.0  \n",
       "1            moderate                       7   1365.0  \n",
       "2            flexible                      14   2212.0  \n",
       "3              strict                      17   1700.0  \n",
       "4            moderate                      41   3075.0  "
      ]
     },
     "execution_count": 123,
     "metadata": {},
     "output_type": "execute_result"
    }
   ],
   "source": [
    "listing_agg.head()"
   ]
  },
  {
   "cell_type": "code",
   "execution_count": 124,
   "metadata": {},
   "outputs": [],
   "source": [
    "df_regress = listing_agg.copy(deep = True)"
   ]
  },
  {
   "cell_type": "code",
   "execution_count": 125,
   "metadata": {},
   "outputs": [],
   "source": [
    "del df_regress['id']\n",
    "del df_regress['number_of_reviews_2015']"
   ]
  },
  {
   "cell_type": "code",
   "execution_count": 126,
   "metadata": {},
   "outputs": [],
   "source": [
    "# one hot encoding for categorical data\n",
    "host_response_time = pd.get_dummies(df_regress['host_response_time'])\n",
    "host_is_superhost = pd.get_dummies(df_regress['host_is_superhost'])\n",
    "property_type = pd.get_dummies(df_regress['property_type'])\n",
    "room_type = pd.get_dummies(df_regress['room_type'])\n",
    "host_neighbourhood = pd.get_dummies(df_regress['host_neighbourhood'])\n",
    "cancellation_policy = pd.get_dummies(df_regress['cancellation_policy'])\n",
    "# df_regress[df_regress['host_is_superhost']== 'f'] = 0\n",
    "# df_regress[df_regress['host_is_superhost']== 't'] = 1"
   ]
  },
  {
   "cell_type": "code",
   "execution_count": 128,
   "metadata": {},
   "outputs": [
    {
     "data": {
      "text/html": [
       "<div>\n",
       "<style scoped>\n",
       "    .dataframe tbody tr th:only-of-type {\n",
       "        vertical-align: middle;\n",
       "    }\n",
       "\n",
       "    .dataframe tbody tr th {\n",
       "        vertical-align: top;\n",
       "    }\n",
       "\n",
       "    .dataframe thead th {\n",
       "        text-align: right;\n",
       "    }\n",
       "</style>\n",
       "<table border=\"1\" class=\"dataframe\">\n",
       "  <thead>\n",
       "    <tr style=\"text-align: right;\">\n",
       "      <th></th>\n",
       "      <th>host_response_rate</th>\n",
       "      <th>accommodates</th>\n",
       "      <th>price</th>\n",
       "      <th>security_deposit</th>\n",
       "      <th>cleaning_fee</th>\n",
       "      <th>minimum_nights</th>\n",
       "      <th>review_scores_rating</th>\n",
       "      <th>revenue</th>\n",
       "    </tr>\n",
       "  </thead>\n",
       "  <tbody>\n",
       "    <tr>\n",
       "      <th>0</th>\n",
       "      <td>0.412207</td>\n",
       "      <td>-0.576188</td>\n",
       "      <td>-0.937159</td>\n",
       "      <td>-0.991328</td>\n",
       "      <td>-1.299933</td>\n",
       "      <td>-0.112751</td>\n",
       "      <td>0.270739</td>\n",
       "      <td>-0.274143</td>\n",
       "    </tr>\n",
       "    <tr>\n",
       "      <th>1</th>\n",
       "      <td>0.412207</td>\n",
       "      <td>-0.576188</td>\n",
       "      <td>-0.937159</td>\n",
       "      <td>-0.025385</td>\n",
       "      <td>-0.025460</td>\n",
       "      <td>-0.024582</td>\n",
       "      <td>0.756541</td>\n",
       "      <td>-0.355183</td>\n",
       "    </tr>\n",
       "    <tr>\n",
       "      <th>2</th>\n",
       "      <td>0.412207</td>\n",
       "      <td>-0.576188</td>\n",
       "      <td>-0.812475</td>\n",
       "      <td>-0.025385</td>\n",
       "      <td>-1.190780</td>\n",
       "      <td>-0.112751</td>\n",
       "      <td>0.877992</td>\n",
       "      <td>-0.273952</td>\n",
       "    </tr>\n",
       "    <tr>\n",
       "      <th>3</th>\n",
       "      <td>0.210649</td>\n",
       "      <td>-0.034482</td>\n",
       "      <td>-0.625447</td>\n",
       "      <td>-0.025385</td>\n",
       "      <td>-0.025460</td>\n",
       "      <td>-0.200921</td>\n",
       "      <td>-0.215064</td>\n",
       "      <td>-0.323055</td>\n",
       "    </tr>\n",
       "    <tr>\n",
       "      <th>4</th>\n",
       "      <td>0.412207</td>\n",
       "      <td>-0.576188</td>\n",
       "      <td>-0.848099</td>\n",
       "      <td>-0.025385</td>\n",
       "      <td>-1.299933</td>\n",
       "      <td>-0.200921</td>\n",
       "      <td>0.513640</td>\n",
       "      <td>-0.191186</td>\n",
       "    </tr>\n",
       "  </tbody>\n",
       "</table>\n",
       "</div>"
      ],
      "text/plain": [
       "   host_response_rate  accommodates     price  security_deposit  cleaning_fee  \\\n",
       "0            0.412207     -0.576188 -0.937159         -0.991328     -1.299933   \n",
       "1            0.412207     -0.576188 -0.937159         -0.025385     -0.025460   \n",
       "2            0.412207     -0.576188 -0.812475         -0.025385     -1.190780   \n",
       "3            0.210649     -0.034482 -0.625447         -0.025385     -0.025460   \n",
       "4            0.412207     -0.576188 -0.848099         -0.025385     -1.299933   \n",
       "\n",
       "   minimum_nights  review_scores_rating   revenue  \n",
       "0       -0.112751              0.270739 -0.274143  \n",
       "1       -0.024582              0.756541 -0.355183  \n",
       "2       -0.112751              0.877992 -0.273952  \n",
       "3       -0.200921             -0.215064 -0.323055  \n",
       "4       -0.200921              0.513640 -0.191186  "
      ]
     },
     "execution_count": 128,
     "metadata": {},
     "output_type": "execute_result"
    }
   ],
   "source": [
    "del df_regress['host_response_time']\n",
    "del df_regress['host_is_superhost']\n",
    "del df_regress['property_type']\n",
    "del df_regress['room_type']\n",
    "del df_regress['host_neighbourhood']\n",
    "del df_regress['cancellation_policy']\n",
    "\n",
    "#normalization for numerical data\n",
    "df_regress = df_regress.apply(lambda x : (x-np.mean(x))/np.std(x))\n",
    "df_regress.head()"
   ]
  },
  {
   "cell_type": "code",
   "execution_count": 129,
   "metadata": {},
   "outputs": [
    {
     "data": {
      "text/html": [
       "<div>\n",
       "<style scoped>\n",
       "    .dataframe tbody tr th:only-of-type {\n",
       "        vertical-align: middle;\n",
       "    }\n",
       "\n",
       "    .dataframe tbody tr th {\n",
       "        vertical-align: top;\n",
       "    }\n",
       "\n",
       "    .dataframe thead th {\n",
       "        text-align: right;\n",
       "    }\n",
       "</style>\n",
       "<table border=\"1\" class=\"dataframe\">\n",
       "  <thead>\n",
       "    <tr style=\"text-align: right;\">\n",
       "      <th></th>\n",
       "      <th>a few days or more</th>\n",
       "      <th>within a day</th>\n",
       "      <th>within a few hours</th>\n",
       "      <th>within an hour</th>\n",
       "      <th>not_superhost</th>\n",
       "      <th>is_spuer_host</th>\n",
       "      <th>Apartment</th>\n",
       "      <th>Bed &amp; Breakfast</th>\n",
       "      <th>Boat</th>\n",
       "      <th>Condominium</th>\n",
       "      <th>...</th>\n",
       "      <th>strict</th>\n",
       "      <th>super_strict_30</th>\n",
       "      <th>host_response_rate</th>\n",
       "      <th>accommodates</th>\n",
       "      <th>price</th>\n",
       "      <th>security_deposit</th>\n",
       "      <th>cleaning_fee</th>\n",
       "      <th>minimum_nights</th>\n",
       "      <th>review_scores_rating</th>\n",
       "      <th>revenue</th>\n",
       "    </tr>\n",
       "  </thead>\n",
       "  <tbody>\n",
       "    <tr>\n",
       "      <th>0</th>\n",
       "      <td>0</td>\n",
       "      <td>0</td>\n",
       "      <td>0</td>\n",
       "      <td>1</td>\n",
       "      <td>1</td>\n",
       "      <td>0</td>\n",
       "      <td>1</td>\n",
       "      <td>0</td>\n",
       "      <td>0</td>\n",
       "      <td>0</td>\n",
       "      <td>...</td>\n",
       "      <td>0</td>\n",
       "      <td>0</td>\n",
       "      <td>0.412207</td>\n",
       "      <td>-0.576188</td>\n",
       "      <td>-0.937159</td>\n",
       "      <td>-0.991328</td>\n",
       "      <td>-1.299933</td>\n",
       "      <td>-0.112751</td>\n",
       "      <td>0.270739</td>\n",
       "      <td>-0.274143</td>\n",
       "    </tr>\n",
       "    <tr>\n",
       "      <th>1</th>\n",
       "      <td>0</td>\n",
       "      <td>0</td>\n",
       "      <td>1</td>\n",
       "      <td>0</td>\n",
       "      <td>0</td>\n",
       "      <td>1</td>\n",
       "      <td>1</td>\n",
       "      <td>0</td>\n",
       "      <td>0</td>\n",
       "      <td>0</td>\n",
       "      <td>...</td>\n",
       "      <td>0</td>\n",
       "      <td>0</td>\n",
       "      <td>0.412207</td>\n",
       "      <td>-0.576188</td>\n",
       "      <td>-0.937159</td>\n",
       "      <td>-0.025385</td>\n",
       "      <td>-0.025460</td>\n",
       "      <td>-0.024582</td>\n",
       "      <td>0.756541</td>\n",
       "      <td>-0.355183</td>\n",
       "    </tr>\n",
       "    <tr>\n",
       "      <th>2</th>\n",
       "      <td>0</td>\n",
       "      <td>0</td>\n",
       "      <td>0</td>\n",
       "      <td>1</td>\n",
       "      <td>0</td>\n",
       "      <td>1</td>\n",
       "      <td>0</td>\n",
       "      <td>0</td>\n",
       "      <td>0</td>\n",
       "      <td>0</td>\n",
       "      <td>...</td>\n",
       "      <td>0</td>\n",
       "      <td>0</td>\n",
       "      <td>0.412207</td>\n",
       "      <td>-0.576188</td>\n",
       "      <td>-0.812475</td>\n",
       "      <td>-0.025385</td>\n",
       "      <td>-1.190780</td>\n",
       "      <td>-0.112751</td>\n",
       "      <td>0.877992</td>\n",
       "      <td>-0.273952</td>\n",
       "    </tr>\n",
       "    <tr>\n",
       "      <th>3</th>\n",
       "      <td>0</td>\n",
       "      <td>0</td>\n",
       "      <td>0</td>\n",
       "      <td>1</td>\n",
       "      <td>1</td>\n",
       "      <td>0</td>\n",
       "      <td>1</td>\n",
       "      <td>0</td>\n",
       "      <td>0</td>\n",
       "      <td>0</td>\n",
       "      <td>...</td>\n",
       "      <td>1</td>\n",
       "      <td>0</td>\n",
       "      <td>0.210649</td>\n",
       "      <td>-0.034482</td>\n",
       "      <td>-0.625447</td>\n",
       "      <td>-0.025385</td>\n",
       "      <td>-0.025460</td>\n",
       "      <td>-0.200921</td>\n",
       "      <td>-0.215064</td>\n",
       "      <td>-0.323055</td>\n",
       "    </tr>\n",
       "    <tr>\n",
       "      <th>4</th>\n",
       "      <td>0</td>\n",
       "      <td>0</td>\n",
       "      <td>1</td>\n",
       "      <td>0</td>\n",
       "      <td>0</td>\n",
       "      <td>1</td>\n",
       "      <td>0</td>\n",
       "      <td>0</td>\n",
       "      <td>0</td>\n",
       "      <td>0</td>\n",
       "      <td>...</td>\n",
       "      <td>0</td>\n",
       "      <td>0</td>\n",
       "      <td>0.412207</td>\n",
       "      <td>-0.576188</td>\n",
       "      <td>-0.848099</td>\n",
       "      <td>-0.025385</td>\n",
       "      <td>-1.299933</td>\n",
       "      <td>-0.200921</td>\n",
       "      <td>0.513640</td>\n",
       "      <td>-0.191186</td>\n",
       "    </tr>\n",
       "  </tbody>\n",
       "</table>\n",
       "<p>5 rows × 66 columns</p>\n",
       "</div>"
      ],
      "text/plain": [
       "   a few days or more  within a day  within a few hours  within an hour  \\\n",
       "0                   0             0                   0               1   \n",
       "1                   0             0                   1               0   \n",
       "2                   0             0                   0               1   \n",
       "3                   0             0                   0               1   \n",
       "4                   0             0                   1               0   \n",
       "\n",
       "   not_superhost  is_spuer_host  Apartment  Bed & Breakfast  Boat  \\\n",
       "0              1              0          1                0     0   \n",
       "1              0              1          1                0     0   \n",
       "2              0              1          0                0     0   \n",
       "3              1              0          1                0     0   \n",
       "4              0              1          0                0     0   \n",
       "\n",
       "   Condominium  ...  strict  super_strict_30  host_response_rate  \\\n",
       "0            0  ...       0                0            0.412207   \n",
       "1            0  ...       0                0            0.412207   \n",
       "2            0  ...       0                0            0.412207   \n",
       "3            0  ...       1                0            0.210649   \n",
       "4            0  ...       0                0            0.412207   \n",
       "\n",
       "   accommodates     price  security_deposit  cleaning_fee  minimum_nights  \\\n",
       "0     -0.576188 -0.937159         -0.991328     -1.299933       -0.112751   \n",
       "1     -0.576188 -0.937159         -0.025385     -0.025460       -0.024582   \n",
       "2     -0.576188 -0.812475         -0.025385     -1.190780       -0.112751   \n",
       "3     -0.034482 -0.625447         -0.025385     -0.025460       -0.200921   \n",
       "4     -0.576188 -0.848099         -0.025385     -1.299933       -0.200921   \n",
       "\n",
       "   review_scores_rating   revenue  \n",
       "0              0.270739 -0.274143  \n",
       "1              0.756541 -0.355183  \n",
       "2              0.877992 -0.273952  \n",
       "3             -0.215064 -0.323055  \n",
       "4              0.513640 -0.191186  \n",
       "\n",
       "[5 rows x 66 columns]"
      ]
     },
     "execution_count": 129,
     "metadata": {},
     "output_type": "execute_result"
    }
   ],
   "source": [
    "df_regress = pd.concat([host_response_time,host_is_superhost,property_type,room_type,host_neighbourhood,cancellation_policy,df_regress], axis=1, join='inner', ignore_index=False)\n",
    "df_regress.rename(columns={\"f\": \"not_superhost\", \"t\":\"is_spuer_host\"},inplace=True)\n",
    "df_regress.head()"
   ]
  },
  {
   "cell_type": "markdown",
   "metadata": {},
   "source": [
    "### RandomForest"
   ]
  },
  {
   "cell_type": "code",
   "execution_count": 130,
   "metadata": {},
   "outputs": [],
   "source": [
    "from sklearn.ensemble import RandomForestRegressor\n",
    "from sklearn.model_selection import train_test_split,cross_val_score"
   ]
  },
  {
   "cell_type": "code",
   "execution_count": 131,
   "metadata": {},
   "outputs": [],
   "source": [
    "# Split features and label\n",
    "df_x = df_regress.iloc[:,0:65]\n",
    "df_y = df_regress.iloc[:,65]"
   ]
  },
  {
   "cell_type": "code",
   "execution_count": 155,
   "metadata": {},
   "outputs": [
    {
     "data": {
      "text/plain": [
       "0.7833755767153928"
      ]
     },
     "execution_count": 155,
     "metadata": {},
     "output_type": "execute_result"
    }
   ],
   "source": [
    "# Split dataset into training set and testing set\n",
    "X_train, X_test, y_train, y_test = train_test_split(df_x, df_y, test_size=0.2)\n",
    "\n",
    "# Choose random forest regressor with 10 tress\n",
    "rf = RandomForestRegressor(n_estimators= 10)\n",
    "\n",
    "# Train the model on training data\n",
    "rf.fit(X_train,y_train)\n",
    "\n",
    "# Assess the model\n",
    "rf.score(X_test, y_test)"
   ]
  },
  {
   "cell_type": "code",
   "execution_count": 156,
   "metadata": {},
   "outputs": [
    {
     "name": "stdout",
     "output_type": "stream",
     "text": [
      " 1) minimum_nights                 0.260734\n",
      " 2) price                          0.196201\n",
      " 3) Jamaica Plain                  0.105088\n",
      " 4) host_response_rate             0.072125\n",
      " 5) review_scores_rating           0.051041\n",
      " 6) security_deposit               0.034961\n",
      " 7) cleaning_fee                   0.032366\n",
      " 8) Back Bay                       0.029033\n",
      " 9) accommodates                   0.027712\n",
      "10) not_superhost                  0.017367\n",
      "11) Private room                   0.017304\n",
      "12) is_spuer_host                  0.015979\n",
      "13) East Boston                    0.013811\n",
      "14) Condominium                    0.013002\n",
      "15) within an hour                 0.011424\n",
      "16) Beacon Hill                    0.010937\n",
      "17) House                          0.010226\n",
      "18) strict                         0.009567\n",
      "19) North End                      0.009206\n",
      "20) Entire home/apt                0.007813\n",
      "21) Apartment                      0.007395\n",
      "22) moderate                       0.007122\n",
      "23) Loft                           0.004941\n",
      "24) flexible                       0.004821\n",
      "25) South End                      0.004757\n",
      "26) Allston-Brighton               0.003687\n",
      "27) within a few hours             0.003343\n",
      "28) Charlestown                    0.002605\n",
      "29) Roxbury                        0.001990\n",
      "30) South Boston                   0.001921\n",
      "31) Government Center              0.001862\n",
      "32) within a day                   0.001261\n",
      "33) Cambridge                      0.001229\n",
      "34) Dorchester                     0.001217\n",
      "35) Downtown Crossing              0.001113\n",
      "36) super_strict_30                0.000873\n",
      "37) Bed & Breakfast                0.000818\n",
      "38) Mission Hill                   0.000590\n",
      "39) Theater District               0.000588\n",
      "40) Chinatown                      0.000402\n",
      "41) Fenway/Kenmore                 0.000340\n",
      "42) Hyde Park                      0.000287\n",
      "43) Townhouse                      0.000221\n",
      "44) Roslindale                     0.000167\n",
      "45) a few days or more             0.000146\n",
      "46) Gay Village                    0.000118\n",
      "47) West End                       0.000083\n",
      "48) Central Business District      0.000066\n",
      "49) West Roxbury                   0.000064\n",
      "50) Shared room                    0.000036\n",
      "51) Somerville                     0.000022\n",
      "52) Downtown                       0.000010\n",
      "53) Medford                        0.000005\n",
      "54) Other                          0.000002\n",
      "55) Villa                          0.000001\n",
      "56) Midtown East                   0.000000\n",
      "57) South Beach                    0.000000\n",
      "58) Mattapan                       0.000000\n",
      "59) Boat                           0.000000\n",
      "60) Financial District             0.000000\n",
      "61) Benton Park                    0.000000\n",
      "62) Leather District               0.000000\n",
      "63) Newton                         0.000000\n",
      "64) Mission District               0.000000\n",
      "65) Coolidge Corner                0.000000\n"
     ]
    }
   ],
   "source": [
    "importance = rf.feature_importances_\n",
    "features = df_regress.columns[0:65]\n",
    "indices = np.argsort(importance)[::-1]\n",
    "for f in range(X_train.shape[1]):\n",
    "    print(\"%2d) %-*s %f\" % (f + 1, 30, features[indices[f]], importance[indices[f]]))"
   ]
  },
  {
   "cell_type": "markdown",
   "metadata": {},
   "source": [
    "We can see the top 5 important features are minimum_nights, price, 'Jamaica Plain', host_response_rate, review_scores_rating. It is really reasonalble that when price, score rate, response rate and minimum niights are higher, the revenue can also be higher. 'Jamaica Plain' is one of the neighbourhood in boston nad this result is a little bit suprised to us. We first thought Back bay will be the top in area but it is the eighth important feature, the second important area."
   ]
  },
  {
   "cell_type": "code",
   "execution_count": null,
   "metadata": {},
   "outputs": [],
   "source": []
  }
 ],
 "metadata": {
  "kernelspec": {
   "display_name": "Python 3",
   "language": "python",
   "name": "python3"
  },
  "language_info": {
   "codemirror_mode": {
    "name": "ipython",
    "version": 3
   },
   "file_extension": ".py",
   "mimetype": "text/x-python",
   "name": "python",
   "nbconvert_exporter": "python",
   "pygments_lexer": "ipython3",
   "version": "3.6.8"
  }
 },
 "nbformat": 4,
 "nbformat_minor": 2
}
